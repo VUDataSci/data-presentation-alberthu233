{
 "cells": [
  {
   "cell_type": "code",
   "execution_count": 37,
   "metadata": {},
   "outputs": [],
   "source": [
    "import seaborn as sns\n",
    "import pandas as pd\n",
    "import geopandas as gpd\n",
    "import pysal\n",
    "import numpy as np\n",
    "import mapclassify\n",
    "import matplotlib.pyplot as plt\n",
    "import os\n",
    "from PIL import Image\n",
    "import IPython.display as display\n",
    "from ipywidgets import interact, interactive, fixed, interact_manual\n",
    "import ipywidgets as widgets"
   ]
  },
  {
   "cell_type": "code",
   "execution_count": 2,
   "metadata": {},
   "outputs": [
    {
     "data": {
      "text/plain": [
       "Index(['STATEFP', 'COUNTYFP', 'COUNTYNS', 'GEOID', 'NAME', 'NAMELSAD', 'LSAD',\n",
       "       'CLASSFP', 'MTFCC', 'CSAFP', 'CBSAFP', 'METDIVFP', 'FUNCSTAT', 'ALAND',\n",
       "       'AWATER', 'INTPTLAT', 'INTPTLON', 'Unnamed: 0', 'GeoFIPS', 'GeoName',\n",
       "       'Region', 'TableName', 'LineCode', 'IndustryClassification',\n",
       "       'Description', 'Unit', '1969', '1970', '1971', '1972', '1973', '1974',\n",
       "       '1975', '1976', '1977', '1978', '1979', '1980', '1981', '1982', '1983',\n",
       "       '1984', '1985', '1986', '1987', '1988', '1989', '1990', '1991', '1992',\n",
       "       '1993', '1994', '1995', '1996', '1997', '1998', '1999', '2000', '2001',\n",
       "       '2002', '2003', '2004', '2005', '2006', '2007', '2008', '2009', '2010',\n",
       "       '2011', '2012', '2013', '2014', '2015', '2016', '2017', '2018', '2019',\n",
       "       '2020', '2021', 'geometry'],\n",
       "      dtype='object')"
      ]
     },
     "execution_count": 2,
     "metadata": {},
     "output_type": "execute_result"
    }
   ],
   "source": [
    "# get the data\n",
    "per_cap_income = gpd.read_file('uscountypcincome.gpkg')\n",
    "per_cap_income.columns"
   ]
  },
  {
   "cell_type": "code",
   "execution_count": 3,
   "metadata": {},
   "outputs": [
    {
     "data": {
      "text/plain": [
       "(3090, 80)"
      ]
     },
     "execution_count": 3,
     "metadata": {},
     "output_type": "execute_result"
    }
   ],
   "source": [
    "# get data shape\n",
    "per_cap_income.shape"
   ]
  },
  {
   "cell_type": "code",
   "execution_count": 25,
   "metadata": {},
   "outputs": [
    {
     "name": "stderr",
     "output_type": "stream",
     "text": [
      "/Volumes/External0/Conda/anaconda3/envs/EDA/lib/python3.10/site-packages/geopandas/geodataframe.py:1543: SettingWithCopyWarning: \n",
      "A value is trying to be set on a copy of a slice from a DataFrame.\n",
      "Try using .loc[row_indexer,col_indexer] = value instead\n",
      "\n",
      "See the caveats in the documentation: https://pandas.pydata.org/pandas-docs/stable/user_guide/indexing.html#returning-a-view-versus-a-copy\n",
      "  super().__setitem__(key, value)\n"
     ]
    }
   ],
   "source": [
    "# lets first focus on the data from TN\n",
    "# Filter the data for Tennessee (TN) using the FIPS code 47\n",
    "tn_per_cap_income = per_cap_income[per_cap_income['STATEFP'] == '47']\n",
    "\n",
    "# Displaying the first few rows of the Tennessee dataset\n",
    "tn_per_cap_income.head()\n",
    "\n",
    "# convert the income data to numeric\n",
    "years = [str(year) for year in range(1969, 2022)]\n",
    "tn_per_cap_income[years] = tn_per_cap_income[years].apply(pd.to_numeric)"
   ]
  },
  {
   "cell_type": "markdown",
   "metadata": {},
   "source": [
    "#### TN Top Income by Conuty\n",
    "Lets get the top 5 per capital income per county in the past 10 year\n"
   ]
  },
  {
   "cell_type": "code",
   "execution_count": 26,
   "metadata": {},
   "outputs": [
    {
     "data": {
      "text/plain": [
       "{'2012':             NAME   2012\n",
       " 2478  Williamson  79265\n",
       " 2495    Davidson  49761\n",
       " 2519     Fayette  45155\n",
       " 2427    Hamilton  44884\n",
       " 2492      Shelby  42964,\n",
       " '2013':             NAME   2013\n",
       " 2478  Williamson  80565\n",
       " 2495    Davidson  49057\n",
       " 2519     Fayette  45774\n",
       " 2427    Hamilton  44238\n",
       " 2492      Shelby  42541,\n",
       " '2014':             NAME   2014\n",
       " 2478  Williamson  85053\n",
       " 2495    Davidson  52665\n",
       " 2519     Fayette  46082\n",
       " 2427    Hamilton  45396\n",
       " 2492      Shelby  43734,\n",
       " '2015':             NAME   2015\n",
       " 2478  Williamson  92247\n",
       " 2495    Davidson  54994\n",
       " 2519     Fayette  49631\n",
       " 2427    Hamilton  47647\n",
       " 2480        Knox  45271,\n",
       " '2016':             NAME   2016\n",
       " 2478  Williamson  92784\n",
       " 2495    Davidson  57717\n",
       " 2519     Fayette  51651\n",
       " 2427    Hamilton  48383\n",
       " 2480        Knox  46138,\n",
       " '2017':             NAME   2017\n",
       " 2478  Williamson  91608\n",
       " 2495    Davidson  61212\n",
       " 2519     Fayette  53397\n",
       " 2427    Hamilton  50148\n",
       " 2489      Wilson  47614,\n",
       " '2018':             NAME   2018\n",
       " 2478  Williamson  92569\n",
       " 2495    Davidson  66773\n",
       " 2519     Fayette  54216\n",
       " 2427    Hamilton  52181\n",
       " 2480        Knox  49882,\n",
       " '2019':             NAME   2019\n",
       " 2478  Williamson  95806\n",
       " 2495    Davidson  71100\n",
       " 2519     Fayette  58804\n",
       " 2427    Hamilton  54475\n",
       " 2441      Loudon  54449,\n",
       " '2020':             NAME   2020\n",
       " 2478  Williamson  99408\n",
       " 2495    Davidson  74857\n",
       " 2519     Fayette  62949\n",
       " 2441      Loudon  57594\n",
       " 2427    Hamilton  56545,\n",
       " '2021':             NAME    2021\n",
       " 2478  Williamson  107698\n",
       " 2495    Davidson   82087\n",
       " 2519     Fayette   68153\n",
       " 2441      Loudon   60642\n",
       " 2427    Hamilton   60089}"
      ]
     },
     "execution_count": 26,
     "metadata": {},
     "output_type": "execute_result"
    }
   ],
   "source": [
    "# Selecting the past 10 years\n",
    "years = [str(year) for year in range(2012, 2022)]\n",
    "\n",
    "# Getting the top 10 per capita income counties for each year\n",
    "top_counties = {}\n",
    "for year in years:\n",
    "    top_counties[year] = tn_per_cap_income[['NAME', year]].sort_values(by=year, ascending=False).head(5)\n",
    "\n",
    "top_counties"
   ]
  },
  {
   "cell_type": "markdown",
   "metadata": {},
   "source": [
    "Throughout the past decade, Williamson and Davidson consistently rank at the top for per capita income. A few counties, like Hamilton, Knox, and Shelby, also appear frequently in the top 5 list across the years."
   ]
  },
  {
   "cell_type": "markdown",
   "metadata": {},
   "source": [
    "#### TN Income Evolution\n",
    "Now lets take a look at the map, we will plot the per capita income for each county in Tennessee, and see the trend across the past few decades."
   ]
  },
  {
   "cell_type": "code",
   "execution_count": 68,
   "metadata": {},
   "outputs": [
    {
     "data": {
      "text/plain": [
       "(13416, 107698)"
      ]
     },
     "execution_count": 68,
     "metadata": {},
     "output_type": "execute_result"
    }
   ],
   "source": [
    "# Years from 2000 to 2021\n",
    "years_2000_2021 = [str(year) for year in range(2000, 2022)]\n",
    "\n",
    "# Determine the global min and max per capita income values across the years\n",
    "global_min = tn_per_cap_income[years_2000_2021].min().min()\n",
    "global_max = tn_per_cap_income[years_2000_2021].max().max()\n",
    "global_min, global_max"
   ]
  },
  {
   "cell_type": "code",
   "execution_count": 69,
   "metadata": {},
   "outputs": [],
   "source": [
    "# set path to store the images\n",
    "curr_path = os.getcwd()\n",
    "image_path = os.path.join(curr_path, 'images')\n",
    "if not os.path.exists(image_path):\n",
    "    os.mkdir(image_path)\n"
   ]
  },
  {
   "cell_type": "code",
   "execution_count": 70,
   "metadata": {},
   "outputs": [],
   "source": [
    "filepaths_2000_2021 = []\n",
    "\n",
    "for year in years_2000_2021:\n",
    "    fig, ax = plt.subplots(figsize=(10, 4))\n",
    "    tn_per_cap_income.plot(column=year, ax=ax, cmap='viridis', vmin=global_min, vmax=global_max)\n",
    "    ax.set_title(f\"Per Capita Income by County in Tennessee ({year})\")\n",
    "    ax.set_axis_off()\n",
    "    \n",
    "    # Adding a colorbar with the fixed scale\n",
    "    cax = fig.add_axes([0.9, 0.1, 0.03, 0.8])\n",
    "    sm = plt.cm.ScalarMappable(cmap='viridis', norm=plt.Normalize(vmin=global_min, vmax=global_max))\n",
    "    sm._A = []\n",
    "    cbar = fig.colorbar(sm, cax=cax)\n",
    "    cbar.set_label(f'Per Capita Income ({year})')\n",
    "    \n",
    "    # Save each plot to a file\n",
    "    filepath = os.path.join(image_path, f\"plot_{year}.png\")\n",
    "    plt.savefig(filepath, bbox_inches=\"tight\")\n",
    "    filepaths_2000_2021.append(filepath)\n",
    "    plt.close()"
   ]
  },
  {
   "cell_type": "code",
   "execution_count": 73,
   "metadata": {},
   "outputs": [],
   "source": [
    "# Compile all the images into a GIF\n",
    "gif_path_2000_2021 = \"tn_income_evolution_2010_2021.gif\"\n",
    "with Image.open(filepaths_2000_2021[0]) as img:\n",
    "    img.save(gif_path_2000_2021, save_all=True, append_images=[Image.open(f) for f in filepaths_2000_2021[1:]], \n",
    "             optimize=False, duration=1000, loop=0)"
   ]
  },
  {
   "cell_type": "code",
   "execution_count": 74,
   "metadata": {},
   "outputs": [
    {
     "data": {
      "text/html": [
       "<img src=\"tn_income_evolution_2010_2021.gif\"/>"
      ],
      "text/plain": [
       "<IPython.core.display.Image object>"
      ]
     },
     "execution_count": 74,
     "metadata": {},
     "output_type": "execute_result"
    }
   ],
   "source": [
    "display.Image(url=gif_path_2000_2021)"
   ]
  },
  {
   "cell_type": "code",
   "execution_count": null,
   "metadata": {},
   "outputs": [],
   "source": []
  }
 ],
 "metadata": {
  "kernelspec": {
   "display_name": "Python 3",
   "language": "python",
   "name": "python3"
  },
  "language_info": {
   "codemirror_mode": {
    "name": "ipython",
    "version": 3
   },
   "file_extension": ".py",
   "mimetype": "text/x-python",
   "name": "python",
   "nbconvert_exporter": "python",
   "pygments_lexer": "ipython3",
   "version": "3.10.13"
  }
 },
 "nbformat": 4,
 "nbformat_minor": 2
}
